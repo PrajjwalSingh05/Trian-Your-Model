{
 "cells": [
  {
   "cell_type": "code",
   "execution_count": 1,
   "metadata": {},
   "outputs": [],
   "source": [
    "import pandas as pd\n",
    "import numpy as np\n",
    "import numpy as np\n",
    "import pandas as pd\n",
    "import  matplotlib.pyplot as plt\n",
    "from  sklearn.svm import SVC\n",
    "from sklearn.neighbors import KNeighborsClassifier\n",
    "from sklearn.feature_selection import SelectKBest,chi2,RFE\n",
    "from sklearn.tree import ExtraTreeClassifier\n",
    "from sklearn.ensemble import RandomForestRegressor,RandomForestClassifier\n",
    "from sklearn.model_selection import train_test_split,GridSearchCV\n",
    "from imblearn.over_sampling import SMOTE,ADASYN\n",
    "from sklearn.neighbors import KNeighborsRegressor\n",
    "\n",
    "from sklearn.preprocessing import StandardScaler,OneHotEncoder,LabelEncoder\n",
    "from sklearn.impute import SimpleImputer\n",
    "from sklearn.pipeline import  make_pipeline,Pipeline\n",
    "from sklearn.metrics import r2_score,mean_absolute_error\n",
    "from sklearn.compose import ColumnTransformer\n",
    "from sklearn.feature_selection import f_regression\n",
    "from sklearn.metrics import confusion_matrix,classification_report\n",
    "\n",
    "from sklearn.ensemble import GradientBoostingRegressor\n",
    "\n",
    "\n",
    "\n"
   ]
  },
  {
   "cell_type": "code",
   "execution_count": 2,
   "metadata": {},
   "outputs": [],
   "source": [
    "df=pd.read_csv(r\"C:\\Users\\hp\\Desktop\\house_sale.csv\")"
   ]
  },
  {
   "cell_type": "code",
   "execution_count": 3,
   "metadata": {},
   "outputs": [],
   "source": [
    "from sklearn.metrics import confusion_matrix,classification_report\n",
    "from sklearn.ensemble import RandomForestRegressor,RandomForestClassifier\n",
    "def data_preprocessor(X,y):\n",
    "        \"\"\"Function to Prepocess the data \"\"\"\n",
    "        numeric_transformer = Pipeline(\n",
    "                steps=[(\"imputer\", SimpleImputer(strategy=\"median\")), (\"scaler\", StandardScaler())]\n",
    "            )\n",
    "\n",
    "        categorical_transformer = OneHotEncoder(handle_unknown=\"ignore\")\n",
    "        preprocessor = ColumnTransformer(\n",
    "                transformers=[\n",
    "                    (\"numeric\", numeric_transformer, X.select_dtypes(np.number).columns.tolist()),\n",
    "                    (\"category\", categorical_transformer,X.select_dtypes(\"object\").columns.tolist()),\n",
    "                ]\n",
    "            )\n",
    "        return preprocessor"
   ]
  },
  {
   "cell_type": "code",
   "execution_count": 4,
   "metadata": {},
   "outputs": [],
   "source": [
    "def result_evaluator_regressor(model,xtest,ytest):\n",
    "         ypred_model=model.predict(xtest)\n",
    "         r2score=r2_score(ytest,ypred_model)\n",
    "         mse=mean_absolute_error(ytest,ypred_model)\n",
    "         return r2score,mse"
   ]
  },
  {
   "cell_type": "code",
   "execution_count": 5,
   "metadata": {},
   "outputs": [],
   "source": [
    "def knn_Regressor(X,y,start,end,parms):\n",
    "\n",
    "        Listing=[]\n",
    "\n",
    "        preprocessor=data_preprocessor(X,y)\n",
    "        # st.write(\"In main FUnction \")\n",
    "        xtrain,xtest,ytrain,ytest=train_test_split(X,y,test_size=0.2,random_state=45)\n",
    "        for i in range(start,end):\n",
    "        # ****************Feature Seclortot**********************************************\n",
    "                feature_selector = Pipeline(\n",
    "                    steps=[(\"preprocessor\", preprocessor),\n",
    "                    (\"feature\", SelectKBest(f_regression,k=i))])\n",
    "                feature_selector.fit(xtrain,ytrain)\n",
    "        # ****************Model Seclortot**********************************************\n",
    "                model_selector = Pipeline(\n",
    "                    steps=[(\"preprocessor\", preprocessor),\n",
    "                    (\"feature\", SelectKBest(f_regression,k=i)),\n",
    "                    (\"classifier\",  KNeighborsRegressor())]\n",
    "                )\n",
    "                model_selector.fit(xtrain,ytrain)\n",
    "        # *********************************Hyper Parametet***********************************\n",
    "                grid=GridSearchCV(model_selector,parms,cv=4,n_jobs=-1,verbose=3)\n",
    "                grid.fit(xtrain,ytrain)\n",
    "                feature=grid.best_params_\n",
    "                model=grid.best_estimator_\n",
    "\n",
    "                # st.markdown(\"_\"*200)\n",
    "                result_parameter,mae_parameter=result_evaluator_regressor(model,xtest,ytest)\n",
    "\n",
    "                print(f\"R2 score with best parameter{result_parameter}\")\n",
    "                print(f\"Mean Absoulte Error with best parameter{mae_parameter}\")\n",
    "                \n",
    "        #****************************Result Generation ******************************\n",
    "                result,mae=result_evaluator_regressor(model_selector,xtest,ytest)\n",
    "           \n",
    "\n",
    "                print(f\"Accuracy without  Best parameter{result}\")\n",
    "                print(f\"Mean Absoulte Error without  best parameter{mae}\")\n",
    "              \n",
    "        #*********************************Working on features****************************\n",
    "                xopt=feature_selector.get_feature_names_out()\n",
    "                feature_selection=[]\n",
    "                for x in xopt:\n",
    "                    feature_selection.append(x.split(\"__\")[1])\n",
    "                # st.write(feature_selection)\n",
    "                print(\"The feature Selection are as follow-:\")\n",
    "                print(feature_selection)\n",
    "                print(feature)\n",
    "                print(feature_selection)\n",
    "                Listing.append({\n",
    "                    \"i\":i,\n",
    "                    \"result\":result,\n",
    "                    \"mae\":mae,\n",
    "                    \"result_parameter\":result_parameter,\n",
    "                    \"mae_parameter\":mae_parameter,\n",
    "                #     \"Error_model\":result_model,\n",
    "                    \"columns\":feature_selection,\n",
    "                    \"parameter\":feature\n",
    "                })\n",
    "        print(Listing)\n",
    "\n",
    "        return Listing,model"
   ]
  },
  {
   "cell_type": "code",
   "execution_count": 6,
   "metadata": {},
   "outputs": [],
   "source": [
    "X=df.drop(columns=[\"SalePrice\"])\n",
    "y=df[\"SalePrice\"]"
   ]
  },
  {
   "cell_type": "code",
   "execution_count": 7,
   "metadata": {},
   "outputs": [
    {
     "name": "stdout",
     "output_type": "stream",
     "text": [
      "Fitting 4 folds for each of 1 candidates, totalling 4 fits\n",
      "R2 score with best parameter0.657372356229454\n",
      "Mean Absoulte Error with best parameter33386.34726027397\n",
      "Accuracy without  Best parameter0.657372356229454\n",
      "Mean Absoulte Error without  best parameter33386.34726027397\n",
      "The feature Selection are as follow-:\n",
      "['OverallQual']\n",
      "{}\n",
      "['OverallQual']\n",
      "Fitting 4 folds for each of 1 candidates, totalling 4 fits\n",
      "R2 score with best parameter0.7643308193361493\n",
      "Mean Absoulte Error with best parameter27863.24794520548\n",
      "Accuracy without  Best parameter0.7643308193361493\n",
      "Mean Absoulte Error without  best parameter27863.24794520548\n",
      "The feature Selection are as follow-:\n",
      "['OverallQual', 'GrLivArea']\n",
      "{}\n",
      "['OverallQual', 'GrLivArea']\n",
      "Fitting 4 folds for each of 1 candidates, totalling 4 fits\n",
      "R2 score with best parameter0.8383814727421567\n",
      "Mean Absoulte Error with best parameter24298.668493150686\n",
      "Accuracy without  Best parameter0.8383814727421567\n",
      "Mean Absoulte Error without  best parameter24298.668493150686\n",
      "The feature Selection are as follow-:\n",
      "['OverallQual', 'GrLivArea', 'GarageCars']\n",
      "{}\n",
      "['OverallQual', 'GrLivArea', 'GarageCars']\n",
      "Fitting 4 folds for each of 1 candidates, totalling 4 fits\n",
      "R2 score with best parameter0.8374808371074595\n",
      "Mean Absoulte Error with best parameter23100.20205479452\n",
      "Accuracy without  Best parameter0.8374808371074595\n",
      "Mean Absoulte Error without  best parameter23100.20205479452\n",
      "The feature Selection are as follow-:\n",
      "['OverallQual', 'GrLivArea', 'GarageCars', 'GarageArea']\n",
      "{}\n",
      "['OverallQual', 'GrLivArea', 'GarageCars', 'GarageArea']\n",
      "Fitting 4 folds for each of 1 candidates, totalling 4 fits\n",
      "R2 score with best parameter0.8349458652163271\n",
      "Mean Absoulte Error with best parameter22285.382876712327\n",
      "Accuracy without  Best parameter0.8349458652163271\n",
      "Mean Absoulte Error without  best parameter22285.382876712327\n",
      "The feature Selection are as follow-:\n",
      "['OverallQual', 'TotalBsmtSF', 'GrLivArea', 'GarageCars', 'GarageArea']\n",
      "{}\n",
      "['OverallQual', 'TotalBsmtSF', 'GrLivArea', 'GarageCars', 'GarageArea']\n",
      "Fitting 4 folds for each of 1 candidates, totalling 4 fits\n",
      "R2 score with best parameter0.8461053680973195\n",
      "Mean Absoulte Error with best parameter21732.881506849313\n",
      "Accuracy without  Best parameter0.8461053680973195\n",
      "Mean Absoulte Error without  best parameter21732.881506849313\n",
      "The feature Selection are as follow-:\n",
      "['OverallQual', 'TotalBsmtSF', 'GrLivArea', 'GarageCars', 'GarageArea', 'ExterQual_TA']\n",
      "{}\n",
      "['OverallQual', 'TotalBsmtSF', 'GrLivArea', 'GarageCars', 'GarageArea', 'ExterQual_TA']\n",
      "Fitting 4 folds for each of 1 candidates, totalling 4 fits\n",
      "R2 score with best parameter0.8489744662094886\n",
      "Mean Absoulte Error with best parameter21483.002739726027\n",
      "Accuracy without  Best parameter0.8489744662094886\n",
      "Mean Absoulte Error without  best parameter21483.002739726027\n",
      "The feature Selection are as follow-:\n",
      "['OverallQual', 'TotalBsmtSF', '1stFlrSF', 'GrLivArea', 'GarageCars', 'GarageArea', 'ExterQual_TA']\n",
      "{}\n",
      "['OverallQual', 'TotalBsmtSF', '1stFlrSF', 'GrLivArea', 'GarageCars', 'GarageArea', 'ExterQual_TA']\n",
      "Fitting 4 folds for each of 1 candidates, totalling 4 fits\n",
      "R2 score with best parameter0.8630473095710927\n",
      "Mean Absoulte Error with best parameter20751.630136986303\n",
      "Accuracy without  Best parameter0.8630473095710927\n",
      "Mean Absoulte Error without  best parameter20751.630136986303\n",
      "The feature Selection are as follow-:\n",
      "['OverallQual', 'TotalBsmtSF', '1stFlrSF', 'GrLivArea', 'FullBath', 'GarageCars', 'GarageArea', 'ExterQual_TA']\n",
      "{}\n",
      "['OverallQual', 'TotalBsmtSF', '1stFlrSF', 'GrLivArea', 'FullBath', 'GarageCars', 'GarageArea', 'ExterQual_TA']\n",
      "Fitting 4 folds for each of 1 candidates, totalling 4 fits\n",
      "R2 score with best parameter0.8640978720789703\n",
      "Mean Absoulte Error with best parameter21030.373972602738\n",
      "Accuracy without  Best parameter0.8640978720789703\n",
      "Mean Absoulte Error without  best parameter21030.373972602738\n",
      "The feature Selection are as follow-:\n",
      "['OverallQual', 'TotalBsmtSF', '1stFlrSF', 'GrLivArea', 'FullBath', 'GarageCars', 'GarageArea', 'ExterQual_TA', 'BsmtQual_Ex']\n",
      "{}\n",
      "['OverallQual', 'TotalBsmtSF', '1stFlrSF', 'GrLivArea', 'FullBath', 'GarageCars', 'GarageArea', 'ExterQual_TA', 'BsmtQual_Ex']\n",
      "[{'i': 1, 'result': 0.657372356229454, 'mae': 33386.34726027397, 'result_parameter': 0.657372356229454, 'mae_parameter': 33386.34726027397, 'columns': ['OverallQual'], 'parameter': {}}, {'i': 2, 'result': 0.7643308193361493, 'mae': 27863.24794520548, 'result_parameter': 0.7643308193361493, 'mae_parameter': 27863.24794520548, 'columns': ['OverallQual', 'GrLivArea'], 'parameter': {}}, {'i': 3, 'result': 0.8383814727421567, 'mae': 24298.668493150686, 'result_parameter': 0.8383814727421567, 'mae_parameter': 24298.668493150686, 'columns': ['OverallQual', 'GrLivArea', 'GarageCars'], 'parameter': {}}, {'i': 4, 'result': 0.8374808371074595, 'mae': 23100.20205479452, 'result_parameter': 0.8374808371074595, 'mae_parameter': 23100.20205479452, 'columns': ['OverallQual', 'GrLivArea', 'GarageCars', 'GarageArea'], 'parameter': {}}, {'i': 5, 'result': 0.8349458652163271, 'mae': 22285.382876712327, 'result_parameter': 0.8349458652163271, 'mae_parameter': 22285.382876712327, 'columns': ['OverallQual', 'TotalBsmtSF', 'GrLivArea', 'GarageCars', 'GarageArea'], 'parameter': {}}, {'i': 6, 'result': 0.8461053680973195, 'mae': 21732.881506849313, 'result_parameter': 0.8461053680973195, 'mae_parameter': 21732.881506849313, 'columns': ['OverallQual', 'TotalBsmtSF', 'GrLivArea', 'GarageCars', 'GarageArea', 'ExterQual_TA'], 'parameter': {}}, {'i': 7, 'result': 0.8489744662094886, 'mae': 21483.002739726027, 'result_parameter': 0.8489744662094886, 'mae_parameter': 21483.002739726027, 'columns': ['OverallQual', 'TotalBsmtSF', '1stFlrSF', 'GrLivArea', 'GarageCars', 'GarageArea', 'ExterQual_TA'], 'parameter': {}}, {'i': 8, 'result': 0.8630473095710927, 'mae': 20751.630136986303, 'result_parameter': 0.8630473095710927, 'mae_parameter': 20751.630136986303, 'columns': ['OverallQual', 'TotalBsmtSF', '1stFlrSF', 'GrLivArea', 'FullBath', 'GarageCars', 'GarageArea', 'ExterQual_TA'], 'parameter': {}}, {'i': 9, 'result': 0.8640978720789703, 'mae': 21030.373972602738, 'result_parameter': 0.8640978720789703, 'mae_parameter': 21030.373972602738, 'columns': ['OverallQual', 'TotalBsmtSF', '1stFlrSF', 'GrLivArea', 'FullBath', 'GarageCars', 'GarageArea', 'ExterQual_TA', 'BsmtQual_Ex'], 'parameter': {}}]\n"
     ]
    }
   ],
   "source": [
    "parms={}\n",
    "listing,model=knn_Regressor(X,y,1,10,parms)"
   ]
  },
  {
   "cell_type": "code",
   "execution_count": 8,
   "metadata": {},
   "outputs": [
    {
     "data": {
      "text/html": [
       "<style>#sk-container-id-1 {color: black;background-color: white;}#sk-container-id-1 pre{padding: 0;}#sk-container-id-1 div.sk-toggleable {background-color: white;}#sk-container-id-1 label.sk-toggleable__label {cursor: pointer;display: block;width: 100%;margin-bottom: 0;padding: 0.3em;box-sizing: border-box;text-align: center;}#sk-container-id-1 label.sk-toggleable__label-arrow:before {content: \"▸\";float: left;margin-right: 0.25em;color: #696969;}#sk-container-id-1 label.sk-toggleable__label-arrow:hover:before {color: black;}#sk-container-id-1 div.sk-estimator:hover label.sk-toggleable__label-arrow:before {color: black;}#sk-container-id-1 div.sk-toggleable__content {max-height: 0;max-width: 0;overflow: hidden;text-align: left;background-color: #f0f8ff;}#sk-container-id-1 div.sk-toggleable__content pre {margin: 0.2em;color: black;border-radius: 0.25em;background-color: #f0f8ff;}#sk-container-id-1 input.sk-toggleable__control:checked~div.sk-toggleable__content {max-height: 200px;max-width: 100%;overflow: auto;}#sk-container-id-1 input.sk-toggleable__control:checked~label.sk-toggleable__label-arrow:before {content: \"▾\";}#sk-container-id-1 div.sk-estimator input.sk-toggleable__control:checked~label.sk-toggleable__label {background-color: #d4ebff;}#sk-container-id-1 div.sk-label input.sk-toggleable__control:checked~label.sk-toggleable__label {background-color: #d4ebff;}#sk-container-id-1 input.sk-hidden--visually {border: 0;clip: rect(1px 1px 1px 1px);clip: rect(1px, 1px, 1px, 1px);height: 1px;margin: -1px;overflow: hidden;padding: 0;position: absolute;width: 1px;}#sk-container-id-1 div.sk-estimator {font-family: monospace;background-color: #f0f8ff;border: 1px dotted black;border-radius: 0.25em;box-sizing: border-box;margin-bottom: 0.5em;}#sk-container-id-1 div.sk-estimator:hover {background-color: #d4ebff;}#sk-container-id-1 div.sk-parallel-item::after {content: \"\";width: 100%;border-bottom: 1px solid gray;flex-grow: 1;}#sk-container-id-1 div.sk-label:hover label.sk-toggleable__label {background-color: #d4ebff;}#sk-container-id-1 div.sk-serial::before {content: \"\";position: absolute;border-left: 1px solid gray;box-sizing: border-box;top: 0;bottom: 0;left: 50%;z-index: 0;}#sk-container-id-1 div.sk-serial {display: flex;flex-direction: column;align-items: center;background-color: white;padding-right: 0.2em;padding-left: 0.2em;position: relative;}#sk-container-id-1 div.sk-item {position: relative;z-index: 1;}#sk-container-id-1 div.sk-parallel {display: flex;align-items: stretch;justify-content: center;background-color: white;position: relative;}#sk-container-id-1 div.sk-item::before, #sk-container-id-1 div.sk-parallel-item::before {content: \"\";position: absolute;border-left: 1px solid gray;box-sizing: border-box;top: 0;bottom: 0;left: 50%;z-index: -1;}#sk-container-id-1 div.sk-parallel-item {display: flex;flex-direction: column;z-index: 1;position: relative;background-color: white;}#sk-container-id-1 div.sk-parallel-item:first-child::after {align-self: flex-end;width: 50%;}#sk-container-id-1 div.sk-parallel-item:last-child::after {align-self: flex-start;width: 50%;}#sk-container-id-1 div.sk-parallel-item:only-child::after {width: 0;}#sk-container-id-1 div.sk-dashed-wrapped {border: 1px dashed gray;margin: 0 0.4em 0.5em 0.4em;box-sizing: border-box;padding-bottom: 0.4em;background-color: white;}#sk-container-id-1 div.sk-label label {font-family: monospace;font-weight: bold;display: inline-block;line-height: 1.2em;}#sk-container-id-1 div.sk-label-container {text-align: center;}#sk-container-id-1 div.sk-container {/* jupyter's `normalize.less` sets `[hidden] { display: none; }` but bootstrap.min.css set `[hidden] { display: none !important; }` so we also need the `!important` here to be able to override the default hidden behavior on the sphinx rendered scikit-learn.org. See: https://github.com/scikit-learn/scikit-learn/issues/21755 */display: inline-block !important;position: relative;}#sk-container-id-1 div.sk-text-repr-fallback {display: none;}</style><div id=\"sk-container-id-1\" class=\"sk-top-container\"><div class=\"sk-text-repr-fallback\"><pre>Pipeline(steps=[(&#x27;preprocessor&#x27;,\n",
       "                 ColumnTransformer(transformers=[(&#x27;numeric&#x27;,\n",
       "                                                  Pipeline(steps=[(&#x27;imputer&#x27;,\n",
       "                                                                   SimpleImputer(strategy=&#x27;median&#x27;)),\n",
       "                                                                  (&#x27;scaler&#x27;,\n",
       "                                                                   StandardScaler())]),\n",
       "                                                  [&#x27;Unnamed: 0&#x27;, &#x27;MSSubClass&#x27;,\n",
       "                                                   &#x27;LotFrontage&#x27;, &#x27;LotArea&#x27;,\n",
       "                                                   &#x27;OverallQual&#x27;, &#x27;OverallCond&#x27;,\n",
       "                                                   &#x27;YearBuilt&#x27;, &#x27;YearRemodAdd&#x27;,\n",
       "                                                   &#x27;MasVnrArea&#x27;, &#x27;BsmtFinSF1&#x27;,\n",
       "                                                   &#x27;BsmtFinSF2&#x27;, &#x27;BsmtUnfSF&#x27;,\n",
       "                                                   &#x27;TotalBsmtSF&#x27;, &#x27;1stFlrSF&#x27;,\n",
       "                                                   &#x27;2n...\n",
       "                                                   &#x27;HouseStyle&#x27;, &#x27;RoofStyle&#x27;,\n",
       "                                                   &#x27;RoofMatl&#x27;, &#x27;Exterior1st&#x27;,\n",
       "                                                   &#x27;Exterior2nd&#x27;, &#x27;MasVnrType&#x27;,\n",
       "                                                   &#x27;ExterQual&#x27;, &#x27;ExterCond&#x27;,\n",
       "                                                   &#x27;Foundation&#x27;, &#x27;BsmtQual&#x27;,\n",
       "                                                   &#x27;BsmtCond&#x27;, &#x27;BsmtExposure&#x27;,\n",
       "                                                   &#x27;BsmtFinType1&#x27;,\n",
       "                                                   &#x27;BsmtFinType2&#x27;, &#x27;Heating&#x27;,\n",
       "                                                   &#x27;HeatingQC&#x27;, &#x27;CentralAir&#x27;,\n",
       "                                                   &#x27;Electrical&#x27;, ...])])),\n",
       "                (&#x27;feature&#x27;,\n",
       "                 SelectKBest(k=9,\n",
       "                             score_func=&lt;function f_regression at 0x000001D69E6B4B80&gt;)),\n",
       "                (&#x27;classifier&#x27;, KNeighborsRegressor())])</pre><b>In a Jupyter environment, please rerun this cell to show the HTML representation or trust the notebook. <br />On GitHub, the HTML representation is unable to render, please try loading this page with nbviewer.org.</b></div><div class=\"sk-container\" hidden><div class=\"sk-item sk-dashed-wrapped\"><div class=\"sk-label-container\"><div class=\"sk-label sk-toggleable\"><input class=\"sk-toggleable__control sk-hidden--visually\" id=\"sk-estimator-id-1\" type=\"checkbox\" ><label for=\"sk-estimator-id-1\" class=\"sk-toggleable__label sk-toggleable__label-arrow\">Pipeline</label><div class=\"sk-toggleable__content\"><pre>Pipeline(steps=[(&#x27;preprocessor&#x27;,\n",
       "                 ColumnTransformer(transformers=[(&#x27;numeric&#x27;,\n",
       "                                                  Pipeline(steps=[(&#x27;imputer&#x27;,\n",
       "                                                                   SimpleImputer(strategy=&#x27;median&#x27;)),\n",
       "                                                                  (&#x27;scaler&#x27;,\n",
       "                                                                   StandardScaler())]),\n",
       "                                                  [&#x27;Unnamed: 0&#x27;, &#x27;MSSubClass&#x27;,\n",
       "                                                   &#x27;LotFrontage&#x27;, &#x27;LotArea&#x27;,\n",
       "                                                   &#x27;OverallQual&#x27;, &#x27;OverallCond&#x27;,\n",
       "                                                   &#x27;YearBuilt&#x27;, &#x27;YearRemodAdd&#x27;,\n",
       "                                                   &#x27;MasVnrArea&#x27;, &#x27;BsmtFinSF1&#x27;,\n",
       "                                                   &#x27;BsmtFinSF2&#x27;, &#x27;BsmtUnfSF&#x27;,\n",
       "                                                   &#x27;TotalBsmtSF&#x27;, &#x27;1stFlrSF&#x27;,\n",
       "                                                   &#x27;2n...\n",
       "                                                   &#x27;HouseStyle&#x27;, &#x27;RoofStyle&#x27;,\n",
       "                                                   &#x27;RoofMatl&#x27;, &#x27;Exterior1st&#x27;,\n",
       "                                                   &#x27;Exterior2nd&#x27;, &#x27;MasVnrType&#x27;,\n",
       "                                                   &#x27;ExterQual&#x27;, &#x27;ExterCond&#x27;,\n",
       "                                                   &#x27;Foundation&#x27;, &#x27;BsmtQual&#x27;,\n",
       "                                                   &#x27;BsmtCond&#x27;, &#x27;BsmtExposure&#x27;,\n",
       "                                                   &#x27;BsmtFinType1&#x27;,\n",
       "                                                   &#x27;BsmtFinType2&#x27;, &#x27;Heating&#x27;,\n",
       "                                                   &#x27;HeatingQC&#x27;, &#x27;CentralAir&#x27;,\n",
       "                                                   &#x27;Electrical&#x27;, ...])])),\n",
       "                (&#x27;feature&#x27;,\n",
       "                 SelectKBest(k=9,\n",
       "                             score_func=&lt;function f_regression at 0x000001D69E6B4B80&gt;)),\n",
       "                (&#x27;classifier&#x27;, KNeighborsRegressor())])</pre></div></div></div><div class=\"sk-serial\"><div class=\"sk-item sk-dashed-wrapped\"><div class=\"sk-label-container\"><div class=\"sk-label sk-toggleable\"><input class=\"sk-toggleable__control sk-hidden--visually\" id=\"sk-estimator-id-2\" type=\"checkbox\" ><label for=\"sk-estimator-id-2\" class=\"sk-toggleable__label sk-toggleable__label-arrow\">preprocessor: ColumnTransformer</label><div class=\"sk-toggleable__content\"><pre>ColumnTransformer(transformers=[(&#x27;numeric&#x27;,\n",
       "                                 Pipeline(steps=[(&#x27;imputer&#x27;,\n",
       "                                                  SimpleImputer(strategy=&#x27;median&#x27;)),\n",
       "                                                 (&#x27;scaler&#x27;, StandardScaler())]),\n",
       "                                 [&#x27;Unnamed: 0&#x27;, &#x27;MSSubClass&#x27;, &#x27;LotFrontage&#x27;,\n",
       "                                  &#x27;LotArea&#x27;, &#x27;OverallQual&#x27;, &#x27;OverallCond&#x27;,\n",
       "                                  &#x27;YearBuilt&#x27;, &#x27;YearRemodAdd&#x27;, &#x27;MasVnrArea&#x27;,\n",
       "                                  &#x27;BsmtFinSF1&#x27;, &#x27;BsmtFinSF2&#x27;, &#x27;BsmtUnfSF&#x27;,\n",
       "                                  &#x27;TotalBsmtSF&#x27;, &#x27;1stFlrSF&#x27;, &#x27;2ndFlrSF&#x27;,\n",
       "                                  &#x27;LowQualFinSF&#x27;, &#x27;GrLivAre...\n",
       "                                 [&#x27;MSZoning&#x27;, &#x27;Street&#x27;, &#x27;Alley&#x27;, &#x27;LotShape&#x27;,\n",
       "                                  &#x27;LandContour&#x27;, &#x27;Utilities&#x27;, &#x27;LotConfig&#x27;,\n",
       "                                  &#x27;LandSlope&#x27;, &#x27;Neighborhood&#x27;, &#x27;Condition1&#x27;,\n",
       "                                  &#x27;Condition2&#x27;, &#x27;BldgType&#x27;, &#x27;HouseStyle&#x27;,\n",
       "                                  &#x27;RoofStyle&#x27;, &#x27;RoofMatl&#x27;, &#x27;Exterior1st&#x27;,\n",
       "                                  &#x27;Exterior2nd&#x27;, &#x27;MasVnrType&#x27;, &#x27;ExterQual&#x27;,\n",
       "                                  &#x27;ExterCond&#x27;, &#x27;Foundation&#x27;, &#x27;BsmtQual&#x27;,\n",
       "                                  &#x27;BsmtCond&#x27;, &#x27;BsmtExposure&#x27;, &#x27;BsmtFinType1&#x27;,\n",
       "                                  &#x27;BsmtFinType2&#x27;, &#x27;Heating&#x27;, &#x27;HeatingQC&#x27;,\n",
       "                                  &#x27;CentralAir&#x27;, &#x27;Electrical&#x27;, ...])])</pre></div></div></div><div class=\"sk-parallel\"><div class=\"sk-parallel-item\"><div class=\"sk-item\"><div class=\"sk-label-container\"><div class=\"sk-label sk-toggleable\"><input class=\"sk-toggleable__control sk-hidden--visually\" id=\"sk-estimator-id-3\" type=\"checkbox\" ><label for=\"sk-estimator-id-3\" class=\"sk-toggleable__label sk-toggleable__label-arrow\">numeric</label><div class=\"sk-toggleable__content\"><pre>[&#x27;Unnamed: 0&#x27;, &#x27;MSSubClass&#x27;, &#x27;LotFrontage&#x27;, &#x27;LotArea&#x27;, &#x27;OverallQual&#x27;, &#x27;OverallCond&#x27;, &#x27;YearBuilt&#x27;, &#x27;YearRemodAdd&#x27;, &#x27;MasVnrArea&#x27;, &#x27;BsmtFinSF1&#x27;, &#x27;BsmtFinSF2&#x27;, &#x27;BsmtUnfSF&#x27;, &#x27;TotalBsmtSF&#x27;, &#x27;1stFlrSF&#x27;, &#x27;2ndFlrSF&#x27;, &#x27;LowQualFinSF&#x27;, &#x27;GrLivArea&#x27;, &#x27;BsmtFullBath&#x27;, &#x27;BsmtHalfBath&#x27;, &#x27;FullBath&#x27;, &#x27;HalfBath&#x27;, &#x27;BedroomAbvGr&#x27;, &#x27;KitchenAbvGr&#x27;, &#x27;TotRmsAbvGrd&#x27;, &#x27;Fireplaces&#x27;, &#x27;GarageYrBlt&#x27;, &#x27;GarageCars&#x27;, &#x27;GarageArea&#x27;, &#x27;WoodDeckSF&#x27;, &#x27;OpenPorchSF&#x27;, &#x27;EnclosedPorch&#x27;, &#x27;3SsnPorch&#x27;, &#x27;ScreenPorch&#x27;, &#x27;PoolArea&#x27;, &#x27;MiscVal&#x27;, &#x27;MoSold&#x27;, &#x27;YrSold&#x27;]</pre></div></div></div><div class=\"sk-serial\"><div class=\"sk-item\"><div class=\"sk-serial\"><div class=\"sk-item\"><div class=\"sk-estimator sk-toggleable\"><input class=\"sk-toggleable__control sk-hidden--visually\" id=\"sk-estimator-id-4\" type=\"checkbox\" ><label for=\"sk-estimator-id-4\" class=\"sk-toggleable__label sk-toggleable__label-arrow\">SimpleImputer</label><div class=\"sk-toggleable__content\"><pre>SimpleImputer(strategy=&#x27;median&#x27;)</pre></div></div></div><div class=\"sk-item\"><div class=\"sk-estimator sk-toggleable\"><input class=\"sk-toggleable__control sk-hidden--visually\" id=\"sk-estimator-id-5\" type=\"checkbox\" ><label for=\"sk-estimator-id-5\" class=\"sk-toggleable__label sk-toggleable__label-arrow\">StandardScaler</label><div class=\"sk-toggleable__content\"><pre>StandardScaler()</pre></div></div></div></div></div></div></div></div><div class=\"sk-parallel-item\"><div class=\"sk-item\"><div class=\"sk-label-container\"><div class=\"sk-label sk-toggleable\"><input class=\"sk-toggleable__control sk-hidden--visually\" id=\"sk-estimator-id-6\" type=\"checkbox\" ><label for=\"sk-estimator-id-6\" class=\"sk-toggleable__label sk-toggleable__label-arrow\">category</label><div class=\"sk-toggleable__content\"><pre>[&#x27;MSZoning&#x27;, &#x27;Street&#x27;, &#x27;Alley&#x27;, &#x27;LotShape&#x27;, &#x27;LandContour&#x27;, &#x27;Utilities&#x27;, &#x27;LotConfig&#x27;, &#x27;LandSlope&#x27;, &#x27;Neighborhood&#x27;, &#x27;Condition1&#x27;, &#x27;Condition2&#x27;, &#x27;BldgType&#x27;, &#x27;HouseStyle&#x27;, &#x27;RoofStyle&#x27;, &#x27;RoofMatl&#x27;, &#x27;Exterior1st&#x27;, &#x27;Exterior2nd&#x27;, &#x27;MasVnrType&#x27;, &#x27;ExterQual&#x27;, &#x27;ExterCond&#x27;, &#x27;Foundation&#x27;, &#x27;BsmtQual&#x27;, &#x27;BsmtCond&#x27;, &#x27;BsmtExposure&#x27;, &#x27;BsmtFinType1&#x27;, &#x27;BsmtFinType2&#x27;, &#x27;Heating&#x27;, &#x27;HeatingQC&#x27;, &#x27;CentralAir&#x27;, &#x27;Electrical&#x27;, &#x27;KitchenQual&#x27;, &#x27;Functional&#x27;, &#x27;FireplaceQu&#x27;, &#x27;GarageType&#x27;, &#x27;GarageFinish&#x27;, &#x27;GarageQual&#x27;, &#x27;GarageCond&#x27;, &#x27;PavedDrive&#x27;, &#x27;PoolQC&#x27;, &#x27;Fence&#x27;, &#x27;MiscFeature&#x27;, &#x27;SaleType&#x27;, &#x27;SaleCondition&#x27;]</pre></div></div></div><div class=\"sk-serial\"><div class=\"sk-item\"><div class=\"sk-estimator sk-toggleable\"><input class=\"sk-toggleable__control sk-hidden--visually\" id=\"sk-estimator-id-7\" type=\"checkbox\" ><label for=\"sk-estimator-id-7\" class=\"sk-toggleable__label sk-toggleable__label-arrow\">OneHotEncoder</label><div class=\"sk-toggleable__content\"><pre>OneHotEncoder(handle_unknown=&#x27;ignore&#x27;)</pre></div></div></div></div></div></div></div></div><div class=\"sk-item\"><div class=\"sk-estimator sk-toggleable\"><input class=\"sk-toggleable__control sk-hidden--visually\" id=\"sk-estimator-id-8\" type=\"checkbox\" ><label for=\"sk-estimator-id-8\" class=\"sk-toggleable__label sk-toggleable__label-arrow\">SelectKBest</label><div class=\"sk-toggleable__content\"><pre>SelectKBest(k=9, score_func=&lt;function f_regression at 0x000001D69E6B4B80&gt;)</pre></div></div></div><div class=\"sk-item\"><div class=\"sk-estimator sk-toggleable\"><input class=\"sk-toggleable__control sk-hidden--visually\" id=\"sk-estimator-id-9\" type=\"checkbox\" ><label for=\"sk-estimator-id-9\" class=\"sk-toggleable__label sk-toggleable__label-arrow\">KNeighborsRegressor</label><div class=\"sk-toggleable__content\"><pre>KNeighborsRegressor()</pre></div></div></div></div></div></div></div>"
      ],
      "text/plain": [
       "Pipeline(steps=[('preprocessor',\n",
       "                 ColumnTransformer(transformers=[('numeric',\n",
       "                                                  Pipeline(steps=[('imputer',\n",
       "                                                                   SimpleImputer(strategy='median')),\n",
       "                                                                  ('scaler',\n",
       "                                                                   StandardScaler())]),\n",
       "                                                  ['Unnamed: 0', 'MSSubClass',\n",
       "                                                   'LotFrontage', 'LotArea',\n",
       "                                                   'OverallQual', 'OverallCond',\n",
       "                                                   'YearBuilt', 'YearRemodAdd',\n",
       "                                                   'MasVnrArea', 'BsmtFinSF1',\n",
       "                                                   'BsmtFinSF2', 'BsmtUnfSF',\n",
       "                                                   'TotalBsmtSF', '1stFlrSF',\n",
       "                                                   '2n...\n",
       "                                                   'HouseStyle', 'RoofStyle',\n",
       "                                                   'RoofMatl', 'Exterior1st',\n",
       "                                                   'Exterior2nd', 'MasVnrType',\n",
       "                                                   'ExterQual', 'ExterCond',\n",
       "                                                   'Foundation', 'BsmtQual',\n",
       "                                                   'BsmtCond', 'BsmtExposure',\n",
       "                                                   'BsmtFinType1',\n",
       "                                                   'BsmtFinType2', 'Heating',\n",
       "                                                   'HeatingQC', 'CentralAir',\n",
       "                                                   'Electrical', ...])])),\n",
       "                ('feature',\n",
       "                 SelectKBest(k=9,\n",
       "                             score_func=<function f_regression at 0x000001D69E6B4B80>)),\n",
       "                ('classifier', KNeighborsRegressor())])"
      ]
     },
     "execution_count": 8,
     "metadata": {},
     "output_type": "execute_result"
    }
   ],
   "source": [
    "model"
   ]
  },
  {
   "cell_type": "code",
   "execution_count": 11,
   "metadata": {},
   "outputs": [],
   "source": [
    "from sklearn.pipeline import Pipeline\n",
    "from sklearn.linear_model import LinearRegression\n",
    "import plotly.graph_objs as go\n",
    "\n",
    "def create_pipeline_figure(pipeline):\n",
    "    # Define the machine learning pipeline\n",
    "\n",
    "\n",
    "    # Create a Plotly.js figure representing the pipeline\n",
    "    fig = go.Figure(go.Sankey(\n",
    "        node = dict(\n",
    "          pad = 15,\n",
    "          thickness = 20,\n",
    "          line = dict(color = \"black\", width = 0.5),\n",
    "          label = [\"Input Data\", \"Linear Regression Model\", \"Output\"],\n",
    "          color = \"blue\"\n",
    "        ),\n",
    "        link = dict(\n",
    "          source = [0, 0],\n",
    "          target = [1, 2],\n",
    "          value = [1, 1]\n",
    "        )\n",
    "    ))\n",
    "    \n",
    "    # Return the figure\n",
    "    return fig\n"
   ]
  },
  {
   "cell_type": "code",
   "execution_count": 17,
   "metadata": {},
   "outputs": [
    {
     "ename": "TypeError",
     "evalue": "__init__() got an unexpected keyword argument 'estimator'",
     "output_type": "error",
     "traceback": [
      "\u001b[1;31m---------------------------------------------------------------------------\u001b[0m",
      "\u001b[1;31mTypeError\u001b[0m                                 Traceback (most recent call last)",
      "\u001b[1;32md:\\machine learning\\Project\\Website\\Train_your_model\\Train_your_model\\Rough\\knn.ipynb Cell 10\u001b[0m in \u001b[0;36m4\n\u001b[0;32m      <a href='vscode-notebook-cell:/d%3A/machine%20learning/Project/Website/Train_your_model/Train_your_model/Rough/knn.ipynb#X35sZmlsZQ%3D%3D?line=1'>2</a>\u001b[0m \u001b[39mfrom\u001b[39;00m \u001b[39mgraphviz\u001b[39;00m \u001b[39mimport\u001b[39;00m Source\n\u001b[0;32m      <a href='vscode-notebook-cell:/d%3A/machine%20learning/Project/Website/Train_your_model/Train_your_model/Rough/knn.ipynb#X35sZmlsZQ%3D%3D?line=2'>3</a>\u001b[0m set_config(display\u001b[39m=\u001b[39m\u001b[39m'\u001b[39m\u001b[39mdiagram\u001b[39m\u001b[39m'\u001b[39m)\n\u001b[1;32m----> <a href='vscode-notebook-cell:/d%3A/machine%20learning/Project/Website/Train_your_model/Train_your_model/Rough/knn.ipynb#X35sZmlsZQ%3D%3D?line=3'>4</a>\u001b[0m Source(estimator\u001b[39m=\u001b[39;49mmodel)\n",
      "File \u001b[1;32mc:\\Python\\lib\\site-packages\\graphviz\\_tools.py:171\u001b[0m, in \u001b[0;36mdeprecate_positional_args.<locals>.decorator.<locals>.wrapper\u001b[1;34m(*args, **kwargs)\u001b[0m\n\u001b[0;32m    162\u001b[0m     wanted \u001b[39m=\u001b[39m \u001b[39m'\u001b[39m\u001b[39m, \u001b[39m\u001b[39m'\u001b[39m\u001b[39m.\u001b[39mjoin(\u001b[39mf\u001b[39m\u001b[39m'\u001b[39m\u001b[39m{\u001b[39;00mname\u001b[39m}\u001b[39;00m\u001b[39m=\u001b[39m\u001b[39m{\u001b[39;00mvalue\u001b[39m!r}\u001b[39;00m\u001b[39m'\u001b[39m\n\u001b[0;32m    163\u001b[0m                        \u001b[39mfor\u001b[39;00m name, value \u001b[39min\u001b[39;00m deprecated\u001b[39m.\u001b[39mitems())\n\u001b[0;32m    164\u001b[0m     warnings\u001b[39m.\u001b[39mwarn(\u001b[39mf\u001b[39m\u001b[39m'\u001b[39m\u001b[39mThe signature of \u001b[39m\u001b[39m{\u001b[39;00mfunc\u001b[39m.\u001b[39m\u001b[39m__name__\u001b[39m\u001b[39m}\u001b[39;00m\u001b[39m will be reduced\u001b[39m\u001b[39m'\u001b[39m\n\u001b[0;32m    165\u001b[0m                   \u001b[39mf\u001b[39m\u001b[39m'\u001b[39m\u001b[39m to \u001b[39m\u001b[39m{\u001b[39;00msupported_number\u001b[39m}\u001b[39;00m\u001b[39m positional args\u001b[39m\u001b[39m'\u001b[39m\n\u001b[0;32m    166\u001b[0m                   \u001b[39mf\u001b[39m\u001b[39m'\u001b[39m\u001b[39m \u001b[39m\u001b[39m{\u001b[39;00m\u001b[39mlist\u001b[39m(supported)\u001b[39m}\u001b[39;00m\u001b[39m: pass \u001b[39m\u001b[39m{\u001b[39;00mwanted\u001b[39m}\u001b[39;00m\u001b[39m'\u001b[39m\n\u001b[0;32m    167\u001b[0m                   \u001b[39m'\u001b[39m\u001b[39m as keyword arg(s)\u001b[39m\u001b[39m'\u001b[39m,\n\u001b[0;32m    168\u001b[0m                   stacklevel\u001b[39m=\u001b[39mstacklevel,\n\u001b[0;32m    169\u001b[0m                   category\u001b[39m=\u001b[39mcategory)\n\u001b[1;32m--> 171\u001b[0m \u001b[39mreturn\u001b[39;00m func(\u001b[39m*\u001b[39margs, \u001b[39m*\u001b[39m\u001b[39m*\u001b[39mkwargs)\n",
      "\u001b[1;31mTypeError\u001b[0m: __init__() got an unexpected keyword argument 'estimator'"
     ]
    }
   ],
   "source": [
    "from sklearn import set_config\n",
    "from graphviz import Source\n",
    "set_config(display='diagram')\n",
    "Source(estimator=model)"
   ]
  },
  {
   "cell_type": "code",
   "execution_count": 21,
   "metadata": {},
   "outputs": [
    {
     "name": "stdout",
     "output_type": "stream",
     "text": [
      "None\n"
     ]
    }
   ],
   "source": [
    "print(set_config(display='diagram'))\n"
   ]
  },
  {
   "cell_type": "code",
   "execution_count": null,
   "metadata": {},
   "outputs": [
    {
     "name": "stdout",
     "output_type": "stream",
     "text": [
      "1.0\n",
      "1.1\n",
      "1.2\n",
      "1.3\n",
      "1.4\n",
      "1.5\n",
      "1.6\n"
     ]
    }
   ],
   "source": [
    "# for i in range(1,0.6,0.1):\n",
    "#     print(i)\n",
    "import numpy as np\n",
    "for i in  np.arange(1,1.6,0.1):\n",
    "    print(round(i,1))\n",
    "    # print(i)\n"
   ]
  },
  {
   "cell_type": "code",
   "execution_count": null,
   "metadata": {},
   "outputs": [],
   "source": [
    "def Gradient_boosting(X,y,start,end,parms2):\n",
    "\n",
    "        Listing=[]\n",
    "\n",
    "        preprocessor=data_preprocessor(X,y)\n",
    "        # st.write(\"In main FUnction \")\n",
    "        xtrain,xtest,ytrain,ytest=train_test_split(X,y,test_size=0.2,random_state=45)\n",
    "    #     parms={\n",
    "    #     \"classifier__splitter\":[\"random\", \"best\"],\n",
    "    #     \"classifier__max_features\":[\"sqrt\", \"log2\", None],\n",
    "    #     'classifier__max_depth':[10,15,20,25,30],\n",
    "    # }   \n",
    "        for i in range(start,end):\n",
    "        # ****************Feature Seclortot**********************************************\n",
    "                feature_selector = Pipeline(\n",
    "                    steps=[(\"preprocessor\", preprocessor),\n",
    "                    (\"feature\", SelectKBest(f_regression,k=i))])\n",
    "                feature_selector.fit(xtrain,ytrain)\n",
    "        # ****************Model Seclortot**********************************************\n",
    "                model_selector = Pipeline(\n",
    "                    steps=[(\"preprocessor\", preprocessor),\n",
    "                    (\"feature\", SelectKBest(f_regression,k=i)),\n",
    "                    (\"classifier\", GradientBoostingRegressor())]\n",
    "                )\n",
    "                model_selector.fit(xtrain,ytrain)\n",
    "        # *********************************Hyper Parametet***********************************\n",
    "                grid=GridSearchCV(model_selector,parms2,cv=4,n_jobs=-1,verbose=3)\n",
    "                grid.fit(xtrain,ytrain)\n",
    "                feature=grid.best_params_\n",
    "                model=grid.best_estimator_\n",
    "\n",
    "                # st.markdown(\"_\"*200)\n",
    "                result_parameter,mae_parameter=result_evaluator_regressor(model,xtest,ytest)\n",
    "                # ypred_model=model.predict(xtest)\n",
    "                # result_model=r2_score(ytest,ypred_model)\n",
    "                # st.markdown(\"_\"*200)\n",
    "                print(f\"R2 score with best parameter{result_parameter}\")\n",
    "                print(f\"Mean Absoulte Error with best parameter{mae_parameter}\")\n",
    "                # ypred_model=model.predict(xtest)\n",
    "                # result_model=r2_score(ytest,ypred_model)\n",
    "                # st.write(f\"Accuracy with best parameter{result_parameter}\")\n",
    "                # print(f\"R2score of Result Modelwith best estimator is : {result_model}\")\n",
    "        #****************************Result Generation ******************************\n",
    "                result,mae=result_evaluator_regressor(model_selector,xtest,ytest)\n",
    "                # ypred=model_selector.predict(xtest)\n",
    "                # result=r2_score(ytest,ypred)\n",
    "\n",
    "                print(f\"Accuracy without  Best parameter{result}\")\n",
    "                print(f\"Mean Absoulte Error without  best parameter{mae}\")\n",
    "                # print(f\"R2score is without estimator {result}\")\n",
    "                # print(confusion_matrix(ypred,ytest))\n",
    "                # print(classification_report(ypred,ytest))\n",
    "        #*********************************Working on features****************************\n",
    "                xopt=feature_selector.get_feature_names_out()\n",
    "                feature_selection=[]\n",
    "                for x in xopt:\n",
    "                    feature_selection.append(x.split(\"__\")[1])\n",
    "                # st.write(feature_selection)\n",
    "                print(\"The feature Selection are as follow-:\")\n",
    "                print(feature_selection)\n",
    "                print(feature)\n",
    "                print(feature_selection)\n",
    "                Listing.append({\n",
    "                    \"i\":i,\n",
    "                    \"result\":result,\n",
    "                    \"mae\":mae,\n",
    "                    \"result_parameter\":result_parameter,\n",
    "                    \"mae_parameter\":mae_parameter,\n",
    "                #     \"Error_model\":result_model,\n",
    "                    \"columns\":feature_selection,\n",
    "                    \"parameter\":feature\n",
    "                })\n",
    "        print(Listing)\n",
    "\n",
    "        return Listing,model"
   ]
  },
  {
   "cell_type": "code",
   "execution_count": null,
   "metadata": {},
   "outputs": [
    {
     "name": "stdout",
     "output_type": "stream",
     "text": [
      "Fitting 4 folds for each of 1 candidates, totalling 4 fits\n",
      "R2 score with best parameter0.6829465365496536\n",
      "Mean Absoulte Error with best parameter31867.53777328021\n",
      "Accuracy without  Best parameter0.6829465365496536\n",
      "Mean Absoulte Error without  best parameter31867.53777328021\n",
      "The feature Selection are as follow-:\n",
      "['OverallQual']\n",
      "{}\n",
      "['OverallQual']\n",
      "Fitting 4 folds for each of 1 candidates, totalling 4 fits\n",
      "R2 score with best parameter0.7792029243870768\n",
      "Mean Absoulte Error with best parameter25968.472717934583\n",
      "Accuracy without  Best parameter0.7792082481866902\n",
      "Mean Absoulte Error without  best parameter25967.73224516615\n",
      "The feature Selection are as follow-:\n",
      "['OverallQual', 'GrLivArea']\n",
      "{}\n",
      "['OverallQual', 'GrLivArea']\n",
      "Fitting 4 folds for each of 1 candidates, totalling 4 fits\n",
      "R2 score with best parameter0.8291943277950772\n",
      "Mean Absoulte Error with best parameter23580.568350446953\n",
      "Accuracy without  Best parameter0.8291031533309381\n",
      "Mean Absoulte Error without  best parameter23591.95642911034\n",
      "The feature Selection are as follow-:\n",
      "['OverallQual', 'GrLivArea', 'GarageCars']\n",
      "{}\n",
      "['OverallQual', 'GrLivArea', 'GarageCars']\n",
      "Fitting 4 folds for each of 1 candidates, totalling 4 fits\n",
      "R2 score with best parameter0.8004824799764145\n",
      "Mean Absoulte Error with best parameter23960.430859393375\n",
      "Accuracy without  Best parameter0.8002386384185913\n",
      "Mean Absoulte Error without  best parameter23992.456534040437\n",
      "The feature Selection are as follow-:\n",
      "['OverallQual', 'GrLivArea', 'GarageCars', 'GarageArea']\n",
      "{}\n",
      "['OverallQual', 'GrLivArea', 'GarageCars', 'GarageArea']\n",
      "Fitting 4 folds for each of 1 candidates, totalling 4 fits\n",
      "R2 score with best parameter0.8194177837794026\n",
      "Mean Absoulte Error with best parameter22752.298922035712\n",
      "Accuracy without  Best parameter0.8229618940207315\n",
      "Mean Absoulte Error without  best parameter22745.512756986467\n",
      "The feature Selection are as follow-:\n",
      "['OverallQual', 'TotalBsmtSF', 'GrLivArea', 'GarageCars', 'GarageArea']\n",
      "{}\n",
      "['OverallQual', 'TotalBsmtSF', 'GrLivArea', 'GarageCars', 'GarageArea']\n",
      "Fitting 4 folds for each of 1 candidates, totalling 4 fits\n",
      "R2 score with best parameter0.8205714123406088\n",
      "Mean Absoulte Error with best parameter22716.115959733354\n",
      "Accuracy without  Best parameter0.8204322287450654\n",
      "Mean Absoulte Error without  best parameter22699.67136524275\n",
      "The feature Selection are as follow-:\n",
      "['OverallQual', 'TotalBsmtSF', 'GrLivArea', 'GarageCars', 'GarageArea', 'ExterQual_TA']\n",
      "{}\n",
      "['OverallQual', 'TotalBsmtSF', 'GrLivArea', 'GarageCars', 'GarageArea', 'ExterQual_TA']\n",
      "Fitting 4 folds for each of 1 candidates, totalling 4 fits\n",
      "R2 score with best parameter0.8438852047210122\n",
      "Mean Absoulte Error with best parameter22042.989647109673\n",
      "Accuracy without  Best parameter0.8421407454949636\n",
      "Mean Absoulte Error without  best parameter22099.75905738704\n",
      "The feature Selection are as follow-:\n",
      "['OverallQual', 'TotalBsmtSF', '1stFlrSF', 'GrLivArea', 'GarageCars', 'GarageArea', 'ExterQual_TA']\n",
      "{}\n",
      "['OverallQual', 'TotalBsmtSF', '1stFlrSF', 'GrLivArea', 'GarageCars', 'GarageArea', 'ExterQual_TA']\n",
      "Fitting 4 folds for each of 1 candidates, totalling 4 fits\n",
      "R2 score with best parameter0.8485472800277731\n",
      "Mean Absoulte Error with best parameter21800.021799983668\n",
      "Accuracy without  Best parameter0.8539613463266922\n",
      "Mean Absoulte Error without  best parameter21624.22111640158\n",
      "The feature Selection are as follow-:\n",
      "['OverallQual', 'TotalBsmtSF', '1stFlrSF', 'GrLivArea', 'FullBath', 'GarageCars', 'GarageArea', 'ExterQual_TA']\n",
      "{}\n",
      "['OverallQual', 'TotalBsmtSF', '1stFlrSF', 'GrLivArea', 'FullBath', 'GarageCars', 'GarageArea', 'ExterQual_TA']\n",
      "Fitting 4 folds for each of 1 candidates, totalling 4 fits\n",
      "R2 score with best parameter0.8465296309541718\n",
      "Mean Absoulte Error with best parameter21761.62916943471\n",
      "Accuracy without  Best parameter0.850078106698002\n",
      "Mean Absoulte Error without  best parameter21688.007426350916\n",
      "The feature Selection are as follow-:\n",
      "['OverallQual', 'TotalBsmtSF', '1stFlrSF', 'GrLivArea', 'FullBath', 'GarageCars', 'GarageArea', 'ExterQual_TA', 'BsmtQual_Ex']\n",
      "{}\n",
      "['OverallQual', 'TotalBsmtSF', '1stFlrSF', 'GrLivArea', 'FullBath', 'GarageCars', 'GarageArea', 'ExterQual_TA', 'BsmtQual_Ex']\n",
      "[{'i': 1, 'result': 0.6829465365496536, 'mae': 31867.53777328021, 'result_parameter': 0.6829465365496536, 'mae_parameter': 31867.53777328021, 'columns': ['OverallQual'], 'parameter': {}}, {'i': 2, 'result': 0.7792082481866902, 'mae': 25967.73224516615, 'result_parameter': 0.7792029243870768, 'mae_parameter': 25968.472717934583, 'columns': ['OverallQual', 'GrLivArea'], 'parameter': {}}, {'i': 3, 'result': 0.8291031533309381, 'mae': 23591.95642911034, 'result_parameter': 0.8291943277950772, 'mae_parameter': 23580.568350446953, 'columns': ['OverallQual', 'GrLivArea', 'GarageCars'], 'parameter': {}}, {'i': 4, 'result': 0.8002386384185913, 'mae': 23992.456534040437, 'result_parameter': 0.8004824799764145, 'mae_parameter': 23960.430859393375, 'columns': ['OverallQual', 'GrLivArea', 'GarageCars', 'GarageArea'], 'parameter': {}}, {'i': 5, 'result': 0.8229618940207315, 'mae': 22745.512756986467, 'result_parameter': 0.8194177837794026, 'mae_parameter': 22752.298922035712, 'columns': ['OverallQual', 'TotalBsmtSF', 'GrLivArea', 'GarageCars', 'GarageArea'], 'parameter': {}}, {'i': 6, 'result': 0.8204322287450654, 'mae': 22699.67136524275, 'result_parameter': 0.8205714123406088, 'mae_parameter': 22716.115959733354, 'columns': ['OverallQual', 'TotalBsmtSF', 'GrLivArea', 'GarageCars', 'GarageArea', 'ExterQual_TA'], 'parameter': {}}, {'i': 7, 'result': 0.8421407454949636, 'mae': 22099.75905738704, 'result_parameter': 0.8438852047210122, 'mae_parameter': 22042.989647109673, 'columns': ['OverallQual', 'TotalBsmtSF', '1stFlrSF', 'GrLivArea', 'GarageCars', 'GarageArea', 'ExterQual_TA'], 'parameter': {}}, {'i': 8, 'result': 0.8539613463266922, 'mae': 21624.22111640158, 'result_parameter': 0.8485472800277731, 'mae_parameter': 21800.021799983668, 'columns': ['OverallQual', 'TotalBsmtSF', '1stFlrSF', 'GrLivArea', 'FullBath', 'GarageCars', 'GarageArea', 'ExterQual_TA'], 'parameter': {}}, {'i': 9, 'result': 0.850078106698002, 'mae': 21688.007426350916, 'result_parameter': 0.8465296309541718, 'mae_parameter': 21761.62916943471, 'columns': ['OverallQual', 'TotalBsmtSF', '1stFlrSF', 'GrLivArea', 'FullBath', 'GarageCars', 'GarageArea', 'ExterQual_TA', 'BsmtQual_Ex'], 'parameter': {}}]\n"
     ]
    }
   ],
   "source": [
    "X=df.drop(columns=[\"SalePrice\"])\n",
    "y=df[\"SalePrice\"]\n",
    "parms={}\n",
    "listing,model=Gradient_boosting(X,y,1,10,parms)"
   ]
  },
  {
   "cell_type": "code",
   "execution_count": null,
   "metadata": {},
   "outputs": [],
   "source": [
    "from sklearn.tree import DecisionTreeRegressor\n",
    "def Gradient_boosting(X,y,start,end,parms2):\n",
    "\n",
    "        Listing=[]\n",
    "\n",
    "        preprocessor=data_preprocessor(X,y)\n",
    "        # st.write(\"In main FUnction \")\n",
    "        xtrain,xtest,ytrain,ytest=train_test_split(X,y,test_size=0.2,random_state=45)\n",
    "    #     parms={\n",
    "    #     \"classifier__splitter\":[\"random\", \"best\"],\n",
    "    #     \"classifier__max_features\":[\"sqrt\", \"log2\", None],\n",
    "    #     'classifier__max_depth':[10,15,20,25,30],\n",
    "    # }   \n",
    "        for i in range(start,end):\n",
    "        # ****************Feature Seclortot**********************************************\n",
    "                feature_selector = Pipeline(\n",
    "                    steps=[(\"preprocessor\", preprocessor),\n",
    "                    (\"feature\", SelectKBest(f_regression,k=i))])\n",
    "                feature_selector.fit(xtrain,ytrain)\n",
    "        # ****************Model Seclortot**********************************************\n",
    "                model_selector = Pipeline(\n",
    "                    steps=[(\"preprocessor\", preprocessor),\n",
    "                    (\"feature\", SelectKBest(f_regression,k=i)),\n",
    "                    (\"classifier\", DecisionTreeRegressor())]\n",
    "                )\n",
    "                model_selector.fit(xtrain,ytrain)\n",
    "        # *********************************Hyper Parametet***********************************\n",
    "                grid=GridSearchCV(model_selector,parms2,cv=4,n_jobs=-1,verbose=3)\n",
    "                grid.fit(xtrain,ytrain)\n",
    "                feature=grid.best_params_\n",
    "                model=grid.best_estimator_\n",
    "\n",
    "                # st.markdown(\"_\"*200)\n",
    "                result_parameter,mae_parameter=result_evaluator_regressor(model,xtest,ytest)\n",
    "                # ypred_model=model.predict(xtest)\n",
    "                # result_model=r2_score(ytest,ypred_model)\n",
    "                # st.markdown(\"_\"*200)\n",
    "                print(f\"R2 score with best parameter{result_parameter}\")\n",
    "                print(f\"Mean Absoulte Error with best parameter{mae_parameter}\")\n",
    "                # ypred_model=model.predict(xtest)\n",
    "                # result_model=r2_score(ytest,ypred_model)\n",
    "                # st.write(f\"Accuracy with best parameter{result_parameter}\")\n",
    "                # print(f\"R2score of Result Modelwith best estimator is : {result_model}\")\n",
    "        #****************************Result Generation ******************************\n",
    "                result,mae=result_evaluator_regressor(model_selector,xtest,ytest)\n",
    "                # ypred=model_selector.predict(xtest)\n",
    "                # result=r2_score(ytest,ypred)\n",
    "\n",
    "                print(f\"Accuracy without  Best parameter{result}\")\n",
    "                print(f\"Mean Absoulte Error without  best parameter{mae}\")\n",
    "                # print(f\"R2score is without estimator {result}\")\n",
    "                # print(confusion_matrix(ypred,ytest))\n",
    "                # print(classification_report(ypred,ytest))\n",
    "        #*********************************Working on features****************************\n",
    "                xopt=feature_selector.get_feature_names_out()\n",
    "                feature_selection=[]\n",
    "                for x in xopt:\n",
    "                    feature_selection.append(x.split(\"__\")[1])\n",
    "                # st.write(feature_selection)\n",
    "                print(\"The feature Selection are as follow-:\")\n",
    "                print(feature_selection)\n",
    "                print(feature)\n",
    "                print(feature_selection)\n",
    "                Listing.append({\n",
    "                    \"i\":i,\n",
    "                    \"result\":result,\n",
    "                    \"mae\":mae,\n",
    "                    \"result_parameter\":result_parameter,\n",
    "                    \"mae_parameter\":mae_parameter,\n",
    "                #     \"Error_model\":result_model,\n",
    "                    \"columns\":feature_selection,\n",
    "                    \"parameter\":feature\n",
    "                })\n",
    "        print(Listing)\n",
    "\n",
    "        return Listing,model"
   ]
  },
  {
   "cell_type": "code",
   "execution_count": null,
   "metadata": {},
   "outputs": [
    {
     "ename": "AttributeError",
     "evalue": "'Pipeline' object has no attribute 'init'",
     "output_type": "error",
     "traceback": [
      "\u001b[1;31m---------------------------------------------------------------------------\u001b[0m",
      "\u001b[1;31mAttributeError\u001b[0m                            Traceback (most recent call last)",
      "\u001b[1;32md:\\machine learning\\Project\\Website\\Train_your_model\\Train_your_model\\Rough\\knn.ipynb Cell 10\u001b[0m in \u001b[0;36m1\n\u001b[1;32m----> <a href='vscode-notebook-cell:/d%3A/machine%20learning/Project/Website/Train_your_model/Train_your_model/Rough/knn.ipynb#X12sZmlsZQ%3D%3D?line=0'>1</a>\u001b[0m model\u001b[39m.\u001b[39;49minit\n",
      "\u001b[1;31mAttributeError\u001b[0m: 'Pipeline' object has no attribute 'init'"
     ]
    }
   ],
   "source": [
    "model.init"
   ]
  },
  {
   "cell_type": "code",
   "execution_count": null,
   "metadata": {},
   "outputs": [],
   "source": [
    "model_str=str(model)"
   ]
  },
  {
   "cell_type": "code",
   "execution_count": null,
   "metadata": {},
   "outputs": [],
   "source": [
    "import pickle"
   ]
  },
  {
   "cell_type": "code",
   "execution_count": null,
   "metadata": {},
   "outputs": [
    {
     "data": {
      "text/plain": [
       "\"Pipeline(steps=[('preprocessor',\\n                 ColumnTransformer(transformers=[('numeric',\\n                                                  Pipeline(steps=[('imputer',\\n                                                                   SimpleImputer(strategy='median')),\\n                                                                  ('scaler',\\n                                                                   StandardScaler())]),\\n                                                  ['Unnamed: 0', 'MSSubClass',\\n                                                   'LotFrontage', 'LotArea',\\n                                                   'OverallQual', 'OverallCond',\\n                                                   'YearBuilt', 'YearRemodAdd',\\n                                                   'MasVnrArea', 'BsmtFinSF1',\\n                                                   'BsmtFinSF2', 'BsmtUnfSF',\\n                                                   'TotalBsmtSF', '1stFlrSF',\\n                                                   '2n...\\n                                                   'HouseStyle', 'RoofStyle',\\n                                                   'RoofMatl', 'Exterior1st',\\n                                                   'Exterior2nd', 'MasVnrType',\\n                                                   'ExterQual', 'ExterCond',\\n                                                   'Foundation', 'BsmtQual',\\n                                                   'BsmtCond', 'BsmtExposure',\\n                                                   'BsmtFinType1',\\n                                                   'BsmtFinType2', 'Heating',\\n                                                   'HeatingQC', 'CentralAir',\\n                                                   'Electrical', ...])])),\\n                ('feature',\\n                 SelectKBest(k=9,\\n                             score_func=<function f_regression at 0x0000029990461B80>)),\\n                ('classifier', GradientBoostingRegressor())])\""
      ]
     },
     "execution_count": 13,
     "metadata": {},
     "output_type": "execute_result"
    }
   ],
   "source": [
    "model_str"
   ]
  },
  {
   "cell_type": "code",
   "execution_count": null,
   "metadata": {},
   "outputs": [
    {
     "ename": "UnpicklingError",
     "evalue": "A load persistent id instruction was encountered,\nbut no persistent_load function was specified.",
     "output_type": "error",
     "traceback": [
      "\u001b[1;31m---------------------------------------------------------------------------\u001b[0m",
      "\u001b[1;31mUnpicklingError\u001b[0m                           Traceback (most recent call last)",
      "\u001b[1;32md:\\machine learning\\Project\\Website\\Train_your_model\\Train_your_model\\Rough\\knn.ipynb Cell 14\u001b[0m in \u001b[0;36m1\n\u001b[1;32m----> <a href='vscode-notebook-cell:/d%3A/machine%20learning/Project/Website/Train_your_model/Train_your_model/Rough/knn.ipynb#X24sZmlsZQ%3D%3D?line=0'>1</a>\u001b[0m pipeline \u001b[39m=\u001b[39m pickle\u001b[39m.\u001b[39;49mloads(model_str\u001b[39m.\u001b[39;49mencode(\u001b[39m'\u001b[39;49m\u001b[39mlatin1\u001b[39;49m\u001b[39m'\u001b[39;49m))\n",
      "\u001b[1;31mUnpicklingError\u001b[0m: A load persistent id instruction was encountered,\nbut no persistent_load function was specified."
     ]
    }
   ],
   "source": []
  },
  {
   "cell_type": "code",
   "execution_count": null,
   "metadata": {},
   "outputs": [],
   "source": [
    "# pkl_data = pickle.dumps(model)"
   ]
  },
  {
   "cell_type": "code",
   "execution_count": null,
   "metadata": {},
   "outputs": [
    {
     "data": {
      "text/plain": [
       "sklearn.pipeline.Pipeline"
      ]
     },
     "execution_count": 10,
     "metadata": {},
     "output_type": "execute_result"
    }
   ],
   "source": [
    "type(model)"
   ]
  },
  {
   "cell_type": "code",
   "execution_count": null,
   "metadata": {},
   "outputs": [],
   "source": [
    "newlist=pd.DataFrame(listing)"
   ]
  },
  {
   "cell_type": "code",
   "execution_count": 2,
   "metadata": {},
   "outputs": [],
   "source": [
    "import pandas as pd\n",
    "df=pd.read_csv(r\"D:\\machine learning\\Project\\Website\\Train_your_model\\Train_model\\userlist.csv\")"
   ]
  },
  {
   "cell_type": "code",
   "execution_count": null,
   "metadata": {},
   "outputs": [
    {
     "data": {
      "text/html": [
       "<div>\n",
       "<style scoped>\n",
       "    .dataframe tbody tr th:only-of-type {\n",
       "        vertical-align: middle;\n",
       "    }\n",
       "\n",
       "    .dataframe tbody tr th {\n",
       "        vertical-align: top;\n",
       "    }\n",
       "\n",
       "    .dataframe thead th {\n",
       "        text-align: right;\n",
       "    }\n",
       "</style>\n",
       "<table border=\"1\" class=\"dataframe\">\n",
       "  <thead>\n",
       "    <tr style=\"text-align: right;\">\n",
       "      <th></th>\n",
       "      <th>Unnamed: 0</th>\n",
       "      <th>i</th>\n",
       "      <th>result</th>\n",
       "      <th>mae</th>\n",
       "      <th>result_parameter</th>\n",
       "      <th>mae_parameter</th>\n",
       "      <th>columns</th>\n",
       "      <th>parameter</th>\n",
       "    </tr>\n",
       "  </thead>\n",
       "  <tbody>\n",
       "    <tr>\n",
       "      <th>0</th>\n",
       "      <td>0</td>\n",
       "      <td>1</td>\n",
       "      <td>0.682547</td>\n",
       "      <td>31899.574392</td>\n",
       "      <td>0.682387</td>\n",
       "      <td>31918.871357</td>\n",
       "      <td>['OverallQual']</td>\n",
       "      <td>{'classifier__criterion': 'poisson', 'classifi...</td>\n",
       "    </tr>\n",
       "  </tbody>\n",
       "</table>\n",
       "</div>"
      ],
      "text/plain": [
       "   Unnamed: 0  i    result           mae  result_parameter  mae_parameter  \\\n",
       "0           0  1  0.682547  31899.574392          0.682387   31918.871357   \n",
       "\n",
       "           columns                                          parameter  \n",
       "0  ['OverallQual']  {'classifier__criterion': 'poisson', 'classifi...  "
      ]
     },
     "execution_count": 13,
     "metadata": {},
     "output_type": "execute_result"
    }
   ],
   "source": [
    "df.head(1)"
   ]
  },
  {
   "cell_type": "code",
   "execution_count": 8,
   "metadata": {},
   "outputs": [
    {
     "data": {
      "text/plain": [
       "'Ove'"
      ]
     },
     "execution_count": 8,
     "metadata": {},
     "output_type": "execute_result"
    }
   ],
   "source": [
    "df[\"columns\"][0][2:5]"
   ]
  },
  {
   "cell_type": "code",
   "execution_count": 3,
   "metadata": {},
   "outputs": [
    {
     "name": "stdout",
     "output_type": "stream",
     "text": [
      "0    {'classifier__criterion': 'poisson', 'classifi...\n",
      "1    {'classifier__criterion': 'absolute_error', 'c...\n",
      "2    {'classifier__criterion': 'absolute_error', 'c...\n",
      "3    {'classifier__criterion': 'absolute_error', 'c...\n",
      "4    {'classifier__criterion': 'absolute_error', 'c...\n",
      "5    {'classifier__criterion': 'poisson', 'classifi...\n",
      "6    {'classifier__criterion': 'poisson', 'classifi...\n",
      "7    {'classifier__criterion': 'absolute_error', 'c...\n",
      "8    {'classifier__criterion': 'absolute_error', 'c...\n",
      "Name: parameter, dtype: object\n"
     ]
    }
   ],
   "source": [
    "column=df[\"parameter\"]\n",
    "print(column)"
   ]
  },
  {
   "cell_type": "code",
   "execution_count": null,
   "metadata": {},
   "outputs": [
    {
     "data": {
      "text/html": [
       "<div>\n",
       "<style scoped>\n",
       "    .dataframe tbody tr th:only-of-type {\n",
       "        vertical-align: middle;\n",
       "    }\n",
       "\n",
       "    .dataframe tbody tr th {\n",
       "        vertical-align: top;\n",
       "    }\n",
       "\n",
       "    .dataframe thead th {\n",
       "        text-align: right;\n",
       "    }\n",
       "</style>\n",
       "<table border=\"1\" class=\"dataframe\">\n",
       "  <thead>\n",
       "    <tr style=\"text-align: right;\">\n",
       "      <th></th>\n",
       "      <th>0</th>\n",
       "    </tr>\n",
       "  </thead>\n",
       "  <tbody>\n",
       "    <tr>\n",
       "      <th>0</th>\n",
       "      <td>{'classifier</td>\n",
       "    </tr>\n",
       "    <tr>\n",
       "      <th>1</th>\n",
       "      <td>criterion': 'absolute_error', 'classifier</td>\n",
       "    </tr>\n",
       "    <tr>\n",
       "      <th>2</th>\n",
       "      <td>max_depth': 10, 'classifier</td>\n",
       "    </tr>\n",
       "    <tr>\n",
       "      <th>3</th>\n",
       "      <td>min_samples_leaf': 1, 'classifier</td>\n",
       "    </tr>\n",
       "    <tr>\n",
       "      <th>4</th>\n",
       "      <td>n_estimators': 50}</td>\n",
       "    </tr>\n",
       "  </tbody>\n",
       "</table>\n",
       "</div>"
      ],
      "text/plain": [
       "                                           0\n",
       "0                               {'classifier\n",
       "1  criterion': 'absolute_error', 'classifier\n",
       "2                max_depth': 10, 'classifier\n",
       "3          min_samples_leaf': 1, 'classifier\n",
       "4                         n_estimators': 50}"
      ]
     },
     "execution_count": 15,
     "metadata": {},
     "output_type": "execute_result"
    }
   ],
   "source": [
    "pd.DataFrame(column.str.split(\"__\")[1])"
   ]
  },
  {
   "cell_type": "code",
   "execution_count": null,
   "metadata": {},
   "outputs": [],
   "source": [
    "import pickle"
   ]
  }
 ],
 "metadata": {
  "kernelspec": {
   "display_name": "Python 3",
   "language": "python",
   "name": "python3"
  },
  "language_info": {
   "codemirror_mode": {
    "name": "ipython",
    "version": 3
   },
   "file_extension": ".py",
   "mimetype": "text/x-python",
   "name": "python",
   "nbconvert_exporter": "python",
   "pygments_lexer": "ipython3",
   "version": "3.9.6"
  },
  "orig_nbformat": 4
 },
 "nbformat": 4,
 "nbformat_minor": 2
}
